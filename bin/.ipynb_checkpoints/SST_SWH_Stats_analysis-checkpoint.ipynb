{
 "cells": [
  {
   "cell_type": "code",
   "execution_count": 1,
   "metadata": {
    "collapsed": true
   },
   "outputs": [],
   "source": [
    "# importing data manipulation as well as plotting packages\n",
    "import pandas as pd\n",
    "import matplotlib.pyplot as plt\n",
    "import numpy as np\n",
    "\n",
    "# importing statistical packages\n",
    "import statsmodels.api as sm\n",
    "import scipy\n",
    "\n",
    "%matplotlib inline"
   ]
  },
  {
   "cell_type": "markdown",
   "metadata": {},
   "source": [
    "# Sentry Shoals Dataset"
   ]
  },
  {
   "cell_type": "code",
   "execution_count": 10,
   "metadata": {
    "collapsed": false
   },
   "outputs": [
    {
     "data": {
      "text/html": [
       "<div>\n",
       "<table border=\"1\" class=\"dataframe\">\n",
       "  <thead>\n",
       "    <tr style=\"text-align: right;\">\n",
       "      <th></th>\n",
       "      <th>Q_FLAG</th>\n",
       "      <th>LATITUDE</th>\n",
       "      <th>LONGITUDE</th>\n",
       "      <th>DEPTH</th>\n",
       "      <th>sig_wave_height</th>\n",
       "      <th>wave_spectrum_peak_period</th>\n",
       "      <th>sig_wave_height_bouy</th>\n",
       "      <th>maximum_zero_crossing_wave</th>\n",
       "      <th>wave_spectrum_peak_period_bouy</th>\n",
       "      <th>wind_direction</th>\n",
       "      <th>wind_speed</th>\n",
       "      <th>wind_gust_speed</th>\n",
       "      <th>wind_direction.1</th>\n",
       "      <th>wind_speed.1</th>\n",
       "      <th>wind_gust_speed.1</th>\n",
       "      <th>sea_level_atmospheric_pressure</th>\n",
       "      <th>sea_level_atmospheric_pressure.1</th>\n",
       "      <th>dry_bulb_air_temperature</th>\n",
       "      <th>sea_surface_temperature</th>\n",
       "    </tr>\n",
       "    <tr>\n",
       "      <th>DATE</th>\n",
       "      <th></th>\n",
       "      <th></th>\n",
       "      <th></th>\n",
       "      <th></th>\n",
       "      <th></th>\n",
       "      <th></th>\n",
       "      <th></th>\n",
       "      <th></th>\n",
       "      <th></th>\n",
       "      <th></th>\n",
       "      <th></th>\n",
       "      <th></th>\n",
       "      <th></th>\n",
       "      <th></th>\n",
       "      <th></th>\n",
       "      <th></th>\n",
       "      <th></th>\n",
       "      <th></th>\n",
       "      <th></th>\n",
       "    </tr>\n",
       "  </thead>\n",
       "  <tbody>\n",
       "    <tr>\n",
       "      <th>2005-01-31</th>\n",
       "      <td>1.409459</td>\n",
       "      <td>49.91</td>\n",
       "      <td>124.99</td>\n",
       "      <td>14</td>\n",
       "      <td>0.368446</td>\n",
       "      <td>3.703676</td>\n",
       "      <td>0.367973</td>\n",
       "      <td>0.697027</td>\n",
       "      <td>3.603378</td>\n",
       "      <td>206.602703</td>\n",
       "      <td>5.264324</td>\n",
       "      <td>6.656216</td>\n",
       "      <td>204.608108</td>\n",
       "      <td>5.347297</td>\n",
       "      <td>6.777162</td>\n",
       "      <td>1015.986486</td>\n",
       "      <td>1015.981081</td>\n",
       "      <td>4.918108</td>\n",
       "      <td>7.245676</td>\n",
       "    </tr>\n",
       "    <tr>\n",
       "      <th>2005-02-28</th>\n",
       "      <td>1.873874</td>\n",
       "      <td>49.91</td>\n",
       "      <td>124.99</td>\n",
       "      <td>14</td>\n",
       "      <td>0.226757</td>\n",
       "      <td>3.811862</td>\n",
       "      <td>0.221171</td>\n",
       "      <td>0.565465</td>\n",
       "      <td>3.505856</td>\n",
       "      <td>230.183183</td>\n",
       "      <td>3.895495</td>\n",
       "      <td>4.872072</td>\n",
       "      <td>226.009009</td>\n",
       "      <td>3.941291</td>\n",
       "      <td>4.956156</td>\n",
       "      <td>1019.557357</td>\n",
       "      <td>1019.563363</td>\n",
       "      <td>5.710661</td>\n",
       "      <td>7.261562</td>\n",
       "    </tr>\n",
       "    <tr>\n",
       "      <th>2005-03-31</th>\n",
       "      <td>1.432099</td>\n",
       "      <td>49.91</td>\n",
       "      <td>124.99</td>\n",
       "      <td>14</td>\n",
       "      <td>0.379520</td>\n",
       "      <td>3.638724</td>\n",
       "      <td>0.378738</td>\n",
       "      <td>1.016049</td>\n",
       "      <td>3.503155</td>\n",
       "      <td>194.122085</td>\n",
       "      <td>5.304664</td>\n",
       "      <td>6.520439</td>\n",
       "      <td>192.533608</td>\n",
       "      <td>5.334294</td>\n",
       "      <td>6.586145</td>\n",
       "      <td>1014.696845</td>\n",
       "      <td>1014.736351</td>\n",
       "      <td>8.226337</td>\n",
       "      <td>8.755144</td>\n",
       "    </tr>\n",
       "    <tr>\n",
       "      <th>2005-04-30</th>\n",
       "      <td>1.531161</td>\n",
       "      <td>49.91</td>\n",
       "      <td>124.99</td>\n",
       "      <td>14</td>\n",
       "      <td>0.480354</td>\n",
       "      <td>3.858300</td>\n",
       "      <td>0.476912</td>\n",
       "      <td>1.323938</td>\n",
       "      <td>3.758782</td>\n",
       "      <td>194.838527</td>\n",
       "      <td>5.837960</td>\n",
       "      <td>7.234136</td>\n",
       "      <td>190.950425</td>\n",
       "      <td>5.794051</td>\n",
       "      <td>7.208074</td>\n",
       "      <td>1014.522663</td>\n",
       "      <td>1014.573088</td>\n",
       "      <td>10.098725</td>\n",
       "      <td>10.296459</td>\n",
       "    </tr>\n",
       "    <tr>\n",
       "      <th>2005-05-31</th>\n",
       "      <td>1.518268</td>\n",
       "      <td>49.91</td>\n",
       "      <td>124.99</td>\n",
       "      <td>14</td>\n",
       "      <td>0.302179</td>\n",
       "      <td>3.242327</td>\n",
       "      <td>0.298647</td>\n",
       "      <td>1.072666</td>\n",
       "      <td>3.144114</td>\n",
       "      <td>209.167794</td>\n",
       "      <td>4.934777</td>\n",
       "      <td>5.959811</td>\n",
       "      <td>204.784844</td>\n",
       "      <td>4.875643</td>\n",
       "      <td>5.938836</td>\n",
       "      <td>1013.208931</td>\n",
       "      <td>1013.316103</td>\n",
       "      <td>13.606901</td>\n",
       "      <td>13.626116</td>\n",
       "    </tr>\n",
       "  </tbody>\n",
       "</table>\n",
       "</div>"
      ],
      "text/plain": [
       "              Q_FLAG  LATITUDE  LONGITUDE  DEPTH  sig_wave_height  \\\n",
       "DATE                                                                \n",
       "2005-01-31  1.409459     49.91     124.99     14         0.368446   \n",
       "2005-02-28  1.873874     49.91     124.99     14         0.226757   \n",
       "2005-03-31  1.432099     49.91     124.99     14         0.379520   \n",
       "2005-04-30  1.531161     49.91     124.99     14         0.480354   \n",
       "2005-05-31  1.518268     49.91     124.99     14         0.302179   \n",
       "\n",
       "            wave_spectrum_peak_period  sig_wave_height_bouy  \\\n",
       "DATE                                                          \n",
       "2005-01-31                   3.703676              0.367973   \n",
       "2005-02-28                   3.811862              0.221171   \n",
       "2005-03-31                   3.638724              0.378738   \n",
       "2005-04-30                   3.858300              0.476912   \n",
       "2005-05-31                   3.242327              0.298647   \n",
       "\n",
       "            maximum_zero_crossing_wave  wave_spectrum_peak_period_bouy  \\\n",
       "DATE                                                                     \n",
       "2005-01-31                    0.697027                        3.603378   \n",
       "2005-02-28                    0.565465                        3.505856   \n",
       "2005-03-31                    1.016049                        3.503155   \n",
       "2005-04-30                    1.323938                        3.758782   \n",
       "2005-05-31                    1.072666                        3.144114   \n",
       "\n",
       "            wind_direction  wind_speed  wind_gust_speed  wind_direction.1  \\\n",
       "DATE                                                                        \n",
       "2005-01-31      206.602703    5.264324         6.656216        204.608108   \n",
       "2005-02-28      230.183183    3.895495         4.872072        226.009009   \n",
       "2005-03-31      194.122085    5.304664         6.520439        192.533608   \n",
       "2005-04-30      194.838527    5.837960         7.234136        190.950425   \n",
       "2005-05-31      209.167794    4.934777         5.959811        204.784844   \n",
       "\n",
       "            wind_speed.1  wind_gust_speed.1  sea_level_atmospheric_pressure  \\\n",
       "DATE                                                                          \n",
       "2005-01-31      5.347297           6.777162                     1015.986486   \n",
       "2005-02-28      3.941291           4.956156                     1019.557357   \n",
       "2005-03-31      5.334294           6.586145                     1014.696845   \n",
       "2005-04-30      5.794051           7.208074                     1014.522663   \n",
       "2005-05-31      4.875643           5.938836                     1013.208931   \n",
       "\n",
       "            sea_level_atmospheric_pressure.1  dry_bulb_air_temperature  \\\n",
       "DATE                                                                     \n",
       "2005-01-31                       1015.981081                  4.918108   \n",
       "2005-02-28                       1019.563363                  5.710661   \n",
       "2005-03-31                       1014.736351                  8.226337   \n",
       "2005-04-30                       1014.573088                 10.098725   \n",
       "2005-05-31                       1013.316103                 13.606901   \n",
       "\n",
       "            sea_surface_temperature  \n",
       "DATE                                 \n",
       "2005-01-31                 7.245676  \n",
       "2005-02-28                 7.261562  \n",
       "2005-03-31                 8.755144  \n",
       "2005-04-30                10.296459  \n",
       "2005-05-31                13.626116  "
      ]
     },
     "execution_count": 10,
     "metadata": {},
     "output_type": "execute_result"
    }
   ],
   "source": [
    "# importing the environment canada data set with the date as the index column\n",
    "gwv_data = pd.read_csv('../data/c46131.csv', sep=',', index_col='DATE')\n",
    "\n",
    "# Deleting empty columns\n",
    "del gwv_data['WSS$']\n",
    "del gwv_data['WSS$.1']\n",
    "\n",
    "# Chagning the data index (time) into pandas datetime format\n",
    "gwv_data.index = pd.to_datetime(gwv_data.index, unit='m')\n",
    "\n",
    "# Collapsing the data so that all data are averaged over a 1 month perdiod\n",
    "gwv_monthly = gwv_data.resample('M', how=('mean'))\n",
    "\n",
    "# Subsetting the data for the last 11 years (this is the time period for which the plankton data have been collected)\n",
    "gwv_modern = gwv_monthly['2005-01-01':'2015-10-31']\n",
    "\n",
    "# dropping the rows where naN's are present in anticipation of calculating the linear model\n",
    "gwv_modern = gwv_modern.dropna()\n",
    "gwv_modern.head()"
   ]
  },
  {
   "cell_type": "code",
   "execution_count": 6,
   "metadata": {
    "collapsed": false
   },
   "outputs": [
    {
     "data": {
      "text/plain": [
       "array([ 0.45946216,  0.43503807,  0.41061399,  0.3861899 ,  0.36176581,\n",
       "        0.33734172,  0.31291763,  0.28849354,  0.26406946])"
      ]
     },
     "execution_count": 6,
     "metadata": {},
     "output_type": "execute_result"
    }
   ],
   "source": [
    "# calculating the linear model for significant wave height and sea surface temperature\n",
    "lm = sm.formula.ols(formula='sig_wave_height ~ sea_surface_temperature', data = gwv_modern).fit()\n",
    "\n",
    "# Creating a new data frame with the range of x values that we will pass the linear model\n",
    "range_data_x = pd.DataFrame({'sea_surface_temperature': range(6, 19)})\n",
    "\n",
    "# Calculating the linear model predictions from the x values in our range data set\n",
    "y_preds = lm.predict(range_data_x)\n",
    "y_preds[1:10]"
   ]
  },
  {
   "cell_type": "code",
   "execution_count": 8,
   "metadata": {
    "collapsed": false
   },
   "outputs": [
    {
     "data": {
      "text/plain": [
       "[<matplotlib.lines.Line2D at 0x10e8f4748>]"
      ]
     },
     "execution_count": 8,
     "metadata": {},
     "output_type": "execute_result"
    },
    {
     "name": "stderr",
     "output_type": "stream",
     "text": [
      "//anaconda/lib/python3.4/site-packages/matplotlib/collections.py:590: FutureWarning: elementwise comparison failed; returning scalar instead, but in the future will perform elementwise comparison\n",
      "  if self._edgecolors == str('face'):\n"
     ]
    },
    {
     "data": {
      "image/png": "[encoded data removed]",
      "text/plain": [
       "<matplotlib.figure.Figure at 0x10e8f4390>"
      ]
     },
     "metadata": {},
     "output_type": "display_data"
    }
   ],
   "source": [
    "# Plotting sea surface temperature and significant wave height again... But this time with the linear model included\n",
    "gwv_modern.plot(kind='scatter', x= 'sea_surface_temperature', y='sig_wave_height', color='w')\n",
    "\n",
    "plt.xlabel('Sea Surface Temperature')\n",
    "plt.ylabel('Significant Wave Height')\n",
    "plt.title('Water Temperature and Waves', y=1.1, fontsize=14)\n",
    "\n",
    "plt.xlim(5, 20)\n",
    "plt.ylim(0,0.9)\n",
    "\n",
    "plt.plot(range_data_x, y_preds, color='k', linewidth=3)"
   ]
  },
  {
   "cell_type": "code",
   "execution_count": 9,
   "metadata": {
    "collapsed": false
   },
   "outputs": [
    {
     "name": "stdout",
     "output_type": "stream",
     "text": [
      "Intercept                  0.630431\n",
      "sea_surface_temperature   -0.024424\n",
      "dtype: float64\n",
      "                            OLS Regression Results                            \n",
      "==============================================================================\n",
      "Dep. Variable:        sig_wave_height   R-squared:                       0.434\n",
      "Model:                            OLS   Adj. R-squared:                  0.429\n",
      "Method:                 Least Squares   F-statistic:                     97.20\n",
      "Date:                Mon, 09 Nov 2015   Prob (F-statistic):           2.25e-17\n",
      "Time:                        09:21:01   Log-Likelihood:                 108.09\n",
      "No. Observations:                 129   AIC:                            -212.2\n",
      "Df Residuals:                     127   BIC:                            -206.5\n",
      "Df Model:                           1                                         \n",
      "Covariance Type:            nonrobust                                         \n",
      "===========================================================================================\n",
      "                              coef    std err          t      P>|t|      [95.0% Conf. Int.]\n",
      "-------------------------------------------------------------------------------------------\n",
      "Intercept                   0.6304      0.030     21.264      0.000         0.572     0.689\n",
      "sea_surface_temperature    -0.0244      0.002     -9.859      0.000        -0.029    -0.020\n",
      "==============================================================================\n",
      "Omnibus:                       10.655   Durbin-Watson:                   1.951\n",
      "Prob(Omnibus):                  0.005   Jarque-Bera (JB):               12.121\n",
      "Skew:                           0.542   Prob(JB):                      0.00233\n",
      "Kurtosis:                       4.040   Cond. No.                         38.4\n",
      "==============================================================================\n",
      "\n",
      "Warnings:\n",
      "[1] Standard Errors assume that the covariance matrix of the errors is correctly specified.\n"
     ]
    }
   ],
   "source": [
    "# Obtaining the intercept and slope of the linear model\n",
    "print(lm.params)\n",
    "\n",
    "# Obtaining the linear regression statistical summary\n",
    "print(lm.summary())"
   ]
  },
  {
   "cell_type": "code",
   "execution_count": null,
   "metadata": {
    "collapsed": true
   },
   "outputs": [],
   "source": []
  }
 ],
 "metadata": {
  "kernelspec": {
   "display_name": "Python 3",
   "language": "python",
   "name": "python3"
  },
  "language_info": {
   "codemirror_mode": {
    "name": "ipython",
    "version": 3
   },
   "file_extension": ".py",
   "mimetype": "text/x-python",
   "name": "python",
   "nbconvert_exporter": "python",
   "pygments_lexer": "ipython3",
   "version": "3.4.3"
  }
 },
 "nbformat": 4,
 "nbformat_minor": 0
}
