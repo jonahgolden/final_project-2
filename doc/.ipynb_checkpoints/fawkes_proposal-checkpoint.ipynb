{
 "cells": [
  {
   "cell_type": "markdown",
   "metadata": {},
   "source": [
    "Kyle Fawkes\n",
    "November 2, 2015\n",
    "Final Project Proposal\n",
    "Computation in the Physical Sciences\n",
    "Plankton in the Northern Strait of Georgia\n",
    "\n",
    "Introduction:\n",
    "\n",
    "The basis of marine food webs is composed of small photosynthesizing organisms called Phytoplankton (Beamish & McFarlane, 2014). These microscopic organisms float with the ocean currents, and provide food for zooplankton and other upper trophic level organisms to support marine ecosystems (Beamish & McFarlane, 2014). In the Strait of Georgia, phytoplankton typically have a large bloom at the beginning to middle of spring when the water begins to stratify and the amount of sunlight exposure increases (Beamish & McFarlane, 2014). Similarly just after this bloom of phytoplankton, the Strait undergoes a zooplankton bloom (Beamish & McFarlane, 2014). The timing of this spring bloom is paramount to many marine organisms in higher trophic levels, including juvenile Pacific Salmon (Beamish & McFarlane, 2014). Recently there have been changes in the timing of spring phytoplankton and zooplankton blooms in the Strait, which scientists attribute to climate change. Ultimately this has complicated the migration of Salmon out of the Strait, as well as their early development (Johannessen & McCarter, 2010; Allen & Wolfe, 2013). In addition, researchers have recently proposed that the lack of primary productivity in narrow and turbulent migration passages out of the Strait puts further stress on young Salmon, as they encounter a lack of food. This combination of the annual bloom variance in the narrow migration passages is a particularly new and mysterious area of research, which is still underexplored. Therefore, I ultimately want to explore the feasibility of predicting the timing and strength of plankton blooms in the Discovery passage primarily using an NPZ (Nutrient, Phytoplankton, and Zooplankton) model. An NPZ model is a common, but biologically oversimplified method used to examine and predict trends in the base level marine food chain (Franks, 2002). It utilizes the power of ordinary differential equations to link the success of each included trophic level to the next. However, a more complex and accurate NPZ model will also include variables and parameters that account for the abiotic factor of the environment (Franks, 2002).  Since plankton growth is heavily affected by both vertical water turnover and temperature, I propose examining the relationship between sea surface temperature and wind driven vertical turnover at Sentry Shoals just South of Discovery passage. I hypothesize that there will be a slight negative relationship between sea surface temperature and wind driven vertical turnover.\n",
    "\n",
    "Methods:\n",
    "\n",
    "In order to address the plankton blooming in the Discovery passage, which is the primary motivation of this study, there are two main temporal factors I must take into account for the timeline of the study. First, the plankton data that I will be using to build the model with spans a timeframe from the spring of 2005 to the spring of 2015. Second, the largest and most ecologically important blooms generally occur in the spring, beginning in either March or April and ending in May or early June. Thus I want to study the relationship between sea surface temperature and wind driven vertical overturn between 2005 and 2015 with special interannual focus on the months of March, April, May and June. However recent research has also proposed that bloom success in the spring may originate from bloom success and oceanographic conditions the previous year (Beamish & McFarlane, 2014). Thus I do want to include the entire yearly cycle in this study as well. However, before I begin to examine the relationship between sea surface temperature and wind driven vertical turnover, I want to perform a statistical analysis of their trends individually over the time period between 2005 and 2015. Specifically, I want to know if either sea surface temperature or wind driven vertical turnover has changed since 2005 in a significant way. After I have laid the statistical groundwork for these trends, I want to examine the relationship between them. Thus I hope statistically analyze the relationship using linear regression between sea surface temperature and wave height and period (as an indicator of wind-driven vertical turnover) to determine its strength. \n",
    "\n",
    "Expected Outcomes:\n",
    "\n",
    "I hypothesize that there will be a slight negative relationship between sea surface temperature and wind driven vertical turnover. Since sea surface temperature in the Strait of Georgia generally follows the dominant air temperature pattern, then I expect that colder sea surface temperature will accompany the onset of winter. Similarly, due to the increased storm frequency in the winter, I expect stronger winds to occur in the winter and thus larger wave height. The coexistence of cooler water temperature and increased storm frequency would thus cause the negative relationship between sea surface temperature and wind driven vertical turnover. As for the individual trends of sea surface temperature and wind driven vertical turnover, I expect that sea surface temperature and wind driven vertical turnover would have increased from 2005 to 2015 only very slightly. However, the trends would most likely originate from the dominant ENSO oscillations over this time period. Thus, it is upon my knowledge of the large La Nina in 2007 and 2008 and the large El Nino in 2014 and 2015 that I make this later prediction. \n",
    "\n",
    "References:\n",
    "\n",
    "Allen, S.E., & Wolfe, M.A. (2013) Hindcast of the timing of the spring phytoplankton bloom in the Strait of Georgia, 1968–2010. Progress in Oceanography, Volume 115. \n",
    "\n",
    "Beamish, R., & McFarlane (2014). The Sea Among Us: The Amazing Strait of Georgia. Madeira Park, BC, Canada: Harbour Publishing Co.\n",
    "\n",
    "Franks, P.J., (2002) NPZ Models of Plankton Dynamics: Their Construction, Coupling to Physics, and Application. Journal of Oceanography, Volume 58. \n",
    "\n",
    "Johannessen, S. C., & McCarter, B. (2010). Ecosystem Status and Trends Report for the Strait of Georgia Ecozone. Retrieved from http://www.dfo-mpo.gc.ca/CSAS/Csas/publications/resdocs-docrech/2010/2010_010_e.pdf\n",
    "\n",
    "\n",
    "\n",
    "\n"
   ]
  },
  {
   "cell_type": "code",
   "execution_count": null,
   "metadata": {
    "collapsed": true
   },
   "outputs": [],
   "source": []
  }
 ],
 "metadata": {
  "kernelspec": {
   "display_name": "Python 3",
   "language": "python",
   "name": "python3"
  },
  "language_info": {
   "codemirror_mode": {
    "name": "ipython",
    "version": 3
   },
   "file_extension": ".py",
   "mimetype": "text/x-python",
   "name": "python",
   "nbconvert_exporter": "python",
   "pygments_lexer": "ipython3",
   "version": "3.4.3"
  }
 },
 "nbformat": 4,
 "nbformat_minor": 0
}
