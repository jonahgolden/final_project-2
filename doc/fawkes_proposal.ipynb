{
 "cells": [
  {
   "cell_type": "markdown",
   "metadata": {},
   "source": [
    "Kyle Fawkes\n",
    "November 2, 2015\n",
    "Final Project Proposal\n",
    "Computation in the Physical Sciences\n",
    "Plankton in the Northern Strait of Georgia\n",
    "\n",
    "Introduction:\n",
    "\n",
    "The basis of marine food webs is composed of small photosynthesizing organisms called Phytoplankton (Beamish & McFarlane, 2014). These microscopic organisms float with the ocean currents, and provide food for zooplankton and other upper trophic level organisms to support marine ecosystems (Beamish & McFarlane, 2014). In the Strait of Georgia, phytoplankton typically have a large bloom at the beginning to middle of spring when the water begins to stratify and the amount of sunlight exposure increases (Beamish & McFarlane, 2014). Similarly just after this bloom of phytoplankton, the Strait undergoes a zooplankton bloom (Beamish & McFarlane, 2014). The timing of this spring bloom is paramount to many marine organisms in higher trophic levels, including juvenile Pacific Salmon (Beamish & McFarlane, 2014). Recently there have been changes in the timing of spring phytoplankton and zooplankton blooms in the Strait, which scientists attribute to climate change. Ultimately this has complicated the migration of Salmon out of the Strait, as well as their early development (Johannessen & McCarter, 2010; Allen & Wolfe, 2013). In addition, researchers have recently proposed that the lack of primary productivity in narrow and turbulent migration passages out of the Strait puts further stress on young Salmon, as they encounter a lack of food. This combination of the annual bloom variance in the narrow migration passages is a particularly new and mysterious area of research, which is still underexplored. Therefore, I want to explore the feasibility of predicting the timing and strength of plankton blooms in the Discovery passage primarily using an NPZ (Nutrient, Phytoplankton, and Zooplankton) model.. \n",
    "\n",
    "Methods:\n",
    "\n",
    "An NPZ model is a common method used to examine and predict trends in the base level marine food chain (Franks, 2002). It utilizes the power of ordinary differential equations to link the success of each included trophic level to the next. The model is an oversimplification of the marine food web, but should give insight into the trends of the region (Franks, 2002). My model will be extremely simplified. The phytoplankton population, which is dependent upon the nutrient and sunlight availability, will form the base of the food web. The zooplankton will provide the grazing pressure on the phytoplankton and will thus represent the top trophic level. Finally, the death of both the phytoplankton and zooplankton will provide a renewal of the nutrients in the water. The model in which I’m using was derived from a general NPZ model published by the Scripps Institute of Oceanography. The variables and parameters of the general model were then specialized to the Discovery Passage area, and the model was limited to spring bloom time period. However, in order to test the models predictability, and improve its calibration, I will compare its results to a data set of annual plankton blooms collected for the Discovery passage between 2005 and 2014. I will perform statistical analysis on the relationship between the model and the data set to examine how closely the model matches the data set, and thus how well it predicts the natural trends of the Discovery Passage. Specifically, I want to explore how well the modeled phytoplankton and zooplankton populations predict the actual phytoplankton and zooplankton populations respectively. I will compare events like the timing of the onset of the bloom, the peak abundance of the bloom, the duration of the bloom and the early bloom growth rates between the modeled and raw data. \n",
    "\n",
    "Expected Outcomes:\n",
    "\n",
    "Due to my very limited experience modeling oceanic systems, I expect that the modeled phytoplankton and zooplankton populations will not match the actual population trends closely. I would even consider model accuracy above 50% to be successful for the purposes of this class. With the successful creation of a model, we could potentially get a much better understanding of the changing bloom cycle for the base of the marine food web in narrow channels along the BC coast. I hope that I am able to develop this model further so that I can examine trends of specific types of zooplankton and phytoplankton. Thus if I was able to isolate the types of zooplankton that Salmon eat, then I would be able to comment on the food availability for juvenile Salmon in the spring bloom. And ultimately, I would be able to get a better idea of how the changing bloom cycle in narrow channels is affecting Salmon.  \n",
    "\n",
    "References:\n",
    "\n",
    "Allen, S.E., & Wolfe, M.A. (2013) Hindcast of the timing of the spring phytoplankton bloom in the Strait of Georgia, 1968–2010. Progress in Oceanography, Volume 115. \n",
    "\n",
    "Beamish, R., & McFarlane (2014). The Sea Among Us: The Amazing Strait of Georgia. Madeira Park, BC, Canada: Harbour Publishing Co.\n",
    "\n",
    "Franks, P.J., (2002) NPZ Models of Plankton Dynamics: Their Construction, Coupling to Physics, and Application. Journal of Oceanography, Volume 58. \n",
    "\n",
    "Johannessen, S. C., & McCarter, B. (2010). Ecosystem Status and Trends Report for the Strait of Georgia Ecozone. Retrieved from http://www.dfo-mpo.gc.ca/CSAS/Csas/publications/resdocs-docrech/2010/2010_010_e.pdf\n",
    "\n",
    "\n",
    "\n",
    "\n",
    "\n"
   ]
  },
  {
   "cell_type": "code",
   "execution_count": null,
   "metadata": {
    "collapsed": true
   },
   "outputs": [],
   "source": []
  }
 ],
 "metadata": {
  "kernelspec": {
   "display_name": "Python 3",
   "language": "python",
   "name": "python3"
  },
  "language_info": {
   "codemirror_mode": {
    "name": "ipython",
    "version": 3
   },
   "file_extension": ".py",
   "mimetype": "text/x-python",
   "name": "python",
   "nbconvert_exporter": "python",
   "pygments_lexer": "ipython3",
   "version": "3.4.3"
  }
 },
 "nbformat": 4,
 "nbformat_minor": 0
}
